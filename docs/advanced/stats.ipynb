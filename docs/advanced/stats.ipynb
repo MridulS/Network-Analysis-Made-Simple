{
 "cells": [
  {
   "cell_type": "code",
   "execution_count": null,
   "metadata": {},
   "outputs": [],
   "source": [
    "%load_ext autoreload\n",
    "%autoreload 2\n",
    "%matplotlib inline\n",
    "%config InlineBackend.figure_format = 'retina'"
   ]
  },
  {
   "cell_type": "markdown",
   "metadata": {},
   "source": [
    "## Introduction\n",
    "\n",
    "In this chapter, we are going to take a look at how to perform statistical inference on graphs."
   ]
  },
  {
   "cell_type": "markdown",
   "metadata": {},
   "source": [
    "## Statistics refresher\n",
    "\n",
    "Before we can proceed with statistical inference on graphs,\n",
    "we must first refresh ourselves with some ideas from the world of statistics.\n",
    "Otherwise, the methods that we will end up using\n",
    "may seem a tad _weird_, and hence difficult to follow along.\n",
    "\n",
    "To review statistical ideas,\n",
    "let's set up a few statements and explore what they mean."
   ]
  },
  {
   "cell_type": "markdown",
   "metadata": {},
   "source": [
    "## We are concerned with models of randomness\n",
    "\n",
    "As with all things statistics, we are concerned with models of randomness.\n",
    "Here, probability distributions give us a way to think about random events\n",
    "and how to assign credibility points to them."
   ]
  },
  {
   "cell_type": "markdown",
   "metadata": {},
   "source": [
    "### In an abstract fashion...\n",
    "\n",
    "The supremely abstract way of thinking about a probability distribution\n",
    "is that it is the space of all possibilities of \"stuff\"\n",
    "with different credibility points _distributed_ amongst each possible \"thing\"."
   ]
  },
  {
   "cell_type": "markdown",
   "metadata": {},
   "source": [
    "### More concretely: the coin flip\n",
    "\n",
    "A more concrete example is to consider the coin flip.\n",
    "Here, the space of all possibilities of \"stuff\" is the set of \"heads\" and \"tails\".\n",
    "If we have a fair coin, then we have 0.5 credibility points _distributed_\n",
    "to each of \"heads\" and \"tails\"."
   ]
  },
  {
   "cell_type": "markdown",
   "metadata": {},
   "source": [
    "### Another example: dice rolls\n",
    "\n",
    "Another concrete example is to consider the six-sided dice.\n",
    "Here, the space of all possibilities of \"stuff\" is the set of numbers in the range $[1, 6]$.\n",
    "If we have a fair dice, then we have 1/6 credibility points assigned\n",
    "to each of the numbers.\n",
    "(Unfair dice will have an unequal _distribution_ of credibility points across each face.)"
   ]
  },
  {
   "cell_type": "markdown",
   "metadata": {},
   "source": [
    "### A graph-based example: social networks\n",
    "\n",
    "If we receive an undirected social network graph with 5 nodes and 6 edges,\n",
    "we have to keep in mind that this graph with 6 edges\n",
    "was merely one of $15 \\choose 6$ ways to construct 5 node, 6 edge graphs."
   ]
  },
  {
   "cell_type": "markdown",
   "metadata": {},
   "source": [
    "## Hypothesis Testing\n",
    "\n",
    "A commonplace task in statistical inferences\n",
    "is calculating the probability of observing a value or something more extreme\n",
    "under an assumed \"null\" model of reality.\n",
    "This is what we commonly call \"hypothesis testing\",\n",
    "and where the oft-misunderstood term \"p-value\" shows up."
   ]
  },
  {
   "cell_type": "markdown",
   "metadata": {},
   "source": [
    "### Hypothesis testing in coin flips, by simulation\n",
    "\n",
    "As an example, hypothesis testing in coin flips follows this logic:\n",
    "\n",
    "- I observe that 8 out of 10 coin tosses give me heads, giving me a probability of heads $p=0.8$ (a summary statistic).\n",
    "- Under a \"null distribution\" of a fair coin, I simulate the distribution of probability of heads (the summary statistic) that I would get from 10 coin tosses.\n",
    "- Finally, I use that distribution to calculate the probability of observing $p=0.8$ or more extreme."
   ]
  },
  {
   "cell_type": "markdown",
   "metadata": {},
   "source": [
    "### Hypothesis testing in graphs\n",
    "\n",
    "The same protocol applies when we perform hypothesis testing on graphs.\n",
    "\n",
    "Firstly, we calculate a _summary statistic_ that describes our graph.\n",
    "\n",
    "Secondly, we propose a _null graph model_, and calculate our summary statistic under simulated versions of that null graph model.\n",
    "\n",
    "Thirdly, we look at the probability of observing the summary statistic value that we calculated in step 1 or more extreme, under the assumed graph null model distribution."
   ]
  },
  {
   "cell_type": "markdown",
   "metadata": {},
   "source": []
  }
 ],
 "metadata": {
  "kernelspec": {
   "display_name": "nams",
   "language": "python",
   "name": "nams"
  },
  "language_info": {
   "codemirror_mode": {
    "name": "ipython",
    "version": 3
   },
   "file_extension": ".py",
   "mimetype": "text/x-python",
   "name": "python",
   "nbconvert_exporter": "python",
   "pygments_lexer": "ipython3",
   "version": "3.7.7"
  }
 },
 "nbformat": 4,
 "nbformat_minor": 4
}
