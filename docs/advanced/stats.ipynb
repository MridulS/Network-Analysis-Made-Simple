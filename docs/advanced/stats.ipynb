{
 "cells": [
  {
   "cell_type": "code",
   "execution_count": null,
   "metadata": {},
   "outputs": [],
   "source": [
    "%load_ext autoreload\n",
    "%autoreload 2\n",
    "%matplotlib inline\n",
    "%config InlineBackend.figure_format = 'retina'"
   ]
  },
  {
   "cell_type": "markdown",
   "metadata": {},
   "source": [
    "## Introduction\n",
    "\n",
    "In this chapter, we will look at the core ideas surrounding statistical inference on graphs.\n",
    "\n",
    "## Statistics refresher\n",
    "\n",
    "Before we can proceed with statistical inference on graphs,\n",
    "we must first refresh ourselves with some ideas from the world of statistics.\n",
    "Otherwise, the methods that we will end up using\n",
    "may seem a tad _weird_, and hence difficult to follow along.\n",
    "\n",
    "To review statistical ideas,\n",
    "let's set up a few statements and explore what they mean."
   ]
  },
  {
   "cell_type": "markdown",
   "metadata": {},
   "source": [
    "## We are concerned with models of randomness\n",
    "\n",
    "As with all things statistics, we are concerned with models of randomness.\n",
    "Here, probability distributions give us a way to think about random events\n",
    "and how to assign credibility points to them.\n",
    "\n",
    "### In an abstract fashion...\n",
    "\n",
    "The supremely abstract way of thinking about a probability distribution\n",
    "is that it is the space of all possibilities of \"stuff\"\n",
    "with different credibility points _distributed_ amongst each possible \"thing\".\n",
    "\n",
    "### More concretely: the coin flip\n",
    "\n",
    "A more concrete example is to consider the coin flip.\n",
    "Here, the space of all possibilities of \"stuff\" is the set of \"heads\" and \"tails\".\n",
    "If we have a fair coin, then we have 0.5 credibility points _distributed_\n",
    "to each of \"heads\" and \"tails\".\n",
    "\n",
    "### Another example: dice rolls\n",
    "\n",
    "Another concrete example is to consider the six-sided dice.\n",
    "Here, the space of all possibilities of \"stuff\" is the set of numbers in the range $[1, 6]$.\n",
    "If we have a fair dice, then we have 1/6 credibility points assigned\n",
    "to each of the numbers.\n",
    "(Unfair dice will have an unequal _distribution_ of credibility points across each face.)"
   ]
  },
  {
   "cell_type": "markdown",
   "metadata": {},
   "source": [
    "### The key idea: \"distribution of credibility points\".\n",
    "\n",
    "With dice and coins, we _distribute_ credibility points\n",
    "across _discrete_ states.\n",
    "The fraction of credibility points assigned to a given state \n",
    "(i.e. heads/tails, or integers in a fixed range)\n",
    "tell us the _probability_ of that state showing up.\n",
    "Putting these two ideas together\n",
    "gives rise to our notion of a \"discrete probability distribution\".\n",
    "(_Notice the italicized words:\n",
    "they are there to prime you for the vocabulary\n",
    "used to describe statistics!_)\n",
    "\n",
    "To visualize this in your mind,\n",
    "think of placing dollar coins on each state,\n",
    "with the number of coins being proportional \n",
    "to the credibility assigned to each state.\n",
    "The **fraction of dollar coins assigned to each state, then,\n",
    "represents the probability of that state**.\n",
    "The _normalized_ number of coins,\n",
    "normalized in such a way that the total number of coins equals 1,\n",
    "gives the _likelihood_ of that state."
   ]
  },
  {
   "cell_type": "markdown",
   "metadata": {},
   "source": [
    "### Infinite-faced dice\n",
    "\n",
    "Now, if you've played Dungeons and Dragons, \n",
    "you'll know that there's one dice that has many more faces.\n",
    "There's one with as many as 20 faces.\n",
    "So we know that dice don't necessarily _have_ to be limited to six faces.\n",
    "\n",
    "Let's take the multi-faced dice idea to an extreme in a thought experiment.\n",
    "Imagine with me for a moment that you have an infinite-faced dice,\n",
    "with numbers starting at $0$ and going to $+\\infty$ (positive infinity).\n"
   ]
  },
  {
   "cell_type": "code",
   "execution_count": null,
   "metadata": {},
   "outputs": [],
   "source": []
  }
 ],
 "metadata": {
  "kernelspec": {
   "display_name": "nams",
   "language": "python",
   "name": "nams"
  },
  "language_info": {
   "codemirror_mode": {
    "name": "ipython",
    "version": 3
   },
   "file_extension": ".py",
   "mimetype": "text/x-python",
   "name": "python",
   "nbconvert_exporter": "python",
   "pygments_lexer": "ipython3",
   "version": "3.7.7"
  }
 },
 "nbformat": 4,
 "nbformat_minor": 4
}
